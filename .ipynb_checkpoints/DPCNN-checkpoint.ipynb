{
 "cells": [
  {
   "cell_type": "code",
   "execution_count": 1,
   "metadata": {},
   "outputs": [
    {
     "name": "stderr",
     "output_type": "stream",
     "text": [
      "/home/wen/anaconda3/lib/python3.7/site-packages/tqdm/autonotebook/__init__.py:14: TqdmExperimentalWarning: Using `tqdm.autonotebook.tqdm` in notebook mode. Use `tqdm.tqdm` instead to force console mode (e.g. in jupyter console)\n",
      "  \" (e.g. in jupyter console)\", TqdmExperimentalWarning)\n"
     ]
    }
   ],
   "source": [
    "from fastNLP import DataSet\n",
    "from fastNLP import Instance\n",
    "from fastNLP import Vocabulary"
   ]
  },
  {
   "cell_type": "code",
   "execution_count": 51,
   "metadata": {},
   "outputs": [],
   "source": [
    "data_train=DataSet.read_csv(\"data_train.txt\",headers=('a','text','label'))\n",
    "data_test=DataSet.read_csv(\"data_test.txt\",headers=('a','text','label'))"
   ]
  },
  {
   "cell_type": "markdown",
   "metadata": {},
   "source": [
    "将文本小写，将label转化为INT格式"
   ]
  },
  {
   "cell_type": "code",
   "execution_count": 53,
   "metadata": {},
   "outputs": [],
   "source": [
    "data_train.apply(lambda x: int(x['label']),new_field_name='label')\n",
    "data_train.apply(lambda x: x['text'].lower(), new_field_name='text')\n",
    "data_test.apply(lambda x: int(x['label']),new_field_name='label')\n",
    "data_test.apply(lambda x: x['text'].lower(), new_field_name='text')\n"
   ]
  },
  {
   "cell_type": "markdown",
   "metadata": {},
   "source": [
    "分词"
   ]
  },
  {
   "cell_type": "code",
   "execution_count": 54,
   "metadata": {},
   "outputs": [],
   "source": [
    "def split_sent(instance):\n",
    "    return instance['text'].split()"
   ]
  },
  {
   "cell_type": "code",
   "execution_count": 55,
   "metadata": {},
   "outputs": [],
   "source": [
    "data_train.apply(split_sent,new_field_name='description_words')\n",
    "data_test.apply(split_sent,new_field_name='description_words')"
   ]
  },
  {
   "cell_type": "code",
   "execution_count": 56,
   "metadata": {},
   "outputs": [
    {
     "data": {
      "text/plain": [
       "DataSet({'a': 0 type=str,\n",
       "'text': wall st. bears claw back into the black (reuters) reuters - short-sellers  wall street's dwindling\\band of ultra-cynics  are seeing green again. type=str,\n",
       "'label': 1 type=int,\n",
       "'description_words': ['wall', 'st.', 'bears', 'claw', 'back', 'into', 'the', 'black', '(reuters)', 'reuters', '-', 'short-sellers', 'wall', \"street's\", 'dwindling\\\\band', 'of', 'ultra-cynics', 'are', 'seeing', 'green', 'again.'] type=list},\n",
       "{'a': 1 type=str,\n",
       "'text': carlyle looks toward commercial aerospace (reuters) reuters - private investment firm carlyle group \\which has a reputation for making well-timed and occasionally\\controversial plays in the defense industry  has quietly placed\\its bets on another part of the market. type=str,\n",
       "'label': 1 type=int,\n",
       "'description_words': ['carlyle', 'looks', 'toward', 'commercial', 'aerospace', '(reuters)', 'reuters', '-', 'private', 'investment', 'firm', 'carlyle', 'group', '\\\\which', 'has', 'a', 'reputation', 'for', 'making', 'well-timed', 'and', 'occasionally\\\\controversial', 'plays', 'in', 'the', 'defense', 'industry', 'has', 'quietly', 'placed\\\\its', 'bets', 'on', 'another', 'part', 'of', 'the', 'market.'] type=list},\n",
       "{'a': 2 type=str,\n",
       "'text': oil and economy cloud stocks' outlook (reuters) reuters - soaring crude prices plus worries\\about the economy and the outlook for earnings are expected to\\hang over the stock market next week during the depth of the\\summer doldrums. type=str,\n",
       "'label': 1 type=int,\n",
       "'description_words': ['oil', 'and', 'economy', 'cloud', \"stocks'\", 'outlook', '(reuters)', 'reuters', '-', 'soaring', 'crude', 'prices', 'plus', 'worries\\\\about', 'the', 'economy', 'and', 'the', 'outlook', 'for', 'earnings', 'are', 'expected', 'to\\\\hang', 'over', 'the', 'stock', 'market', 'next', 'week', 'during', 'the', 'depth', 'of', 'the\\\\summer', 'doldrums.'] type=list},\n",
       "{'a': 3 type=str,\n",
       "'text': iraq halts oil exports from main southern pipeline (reuters) reuters - authorities have halted oil export\\flows from the main pipeline in southern iraq after\\intelligence showed a rebel militia could strike\\infrastructure  an oil official said on saturday. type=str,\n",
       "'label': 1 type=int,\n",
       "'description_words': ['iraq', 'halts', 'oil', 'exports', 'from', 'main', 'southern', 'pipeline', '(reuters)', 'reuters', '-', 'authorities', 'have', 'halted', 'oil', 'export\\\\flows', 'from', 'the', 'main', 'pipeline', 'in', 'southern', 'iraq', 'after\\\\intelligence', 'showed', 'a', 'rebel', 'militia', 'could', 'strike\\\\infrastructure', 'an', 'oil', 'official', 'said', 'on', 'saturday.'] type=list},\n",
       "{'a': 4 type=str,\n",
       "'text': oil prices soar to all-time record  posing new menace to us economy (afp) afp - tearaway world oil prices  toppling records and straining wallets  present a new economic menace barely three months before the us presidential elections. type=str,\n",
       "'label': 1 type=int,\n",
       "'description_words': ['oil', 'prices', 'soar', 'to', 'all-time', 'record', 'posing', 'new', 'menace', 'to', 'us', 'economy', '(afp)', 'afp', '-', 'tearaway', 'world', 'oil', 'prices', 'toppling', 'records', 'and', 'straining', 'wallets', 'present', 'a', 'new', 'economic', 'menace', 'barely', 'three', 'months', 'before', 'the', 'us', 'presidential', 'elections.'] type=list}\n",
       "...\n",
       "{'a': 119995 type=str,\n",
       "'text': pakistan's musharraf says won't quit as army chief  karachi (reuters) - pakistani president pervez musharraf  has said he will stay on as army chief  reneging on a pledge to  quit the powerful post by the end of the year. type=str,\n",
       "'label': 3 type=int,\n",
       "'description_words': [\"pakistan's\", 'musharraf', 'says', \"won't\", 'quit', 'as', 'army', 'chief', 'karachi', '(reuters)', '-', 'pakistani', 'president', 'pervez', 'musharraf', 'has', 'said', 'he', 'will', 'stay', 'on', 'as', 'army', 'chief', 'reneging', 'on', 'a', 'pledge', 'to', 'quit', 'the', 'powerful', 'post', 'by', 'the', 'end', 'of', 'the', 'year.'] type=list},\n",
       "{'a': 119996 type=str,\n",
       "'text': renteria signing a top-shelf deal red sox general manager theo epstein acknowledged edgar renteria was more a luxury for the 2005 red sox than a necessity. but there's nothing wrong with getting the keys to a bmw  and that's what the four-time all-star and two-time gold glover is in the eyes of the red sox. type=str,\n",
       "'label': 4 type=int,\n",
       "'description_words': ['renteria', 'signing', 'a', 'top-shelf', 'deal', 'red', 'sox', 'general', 'manager', 'theo', 'epstein', 'acknowledged', 'edgar', 'renteria', 'was', 'more', 'a', 'luxury', 'for', 'the', '2005', 'red', 'sox', 'than', 'a', 'necessity.', 'but', \"there's\", 'nothing', 'wrong', 'with', 'getting', 'the', 'keys', 'to', 'a', 'bmw', 'and', \"that's\", 'what', 'the', 'four-time', 'all-star', 'and', 'two-time', 'gold', 'glover', 'is', 'in', 'the', 'eyes', 'of', 'the', 'red', 'sox.'] type=list},\n",
       "{'a': 119997 type=str,\n",
       "'text': saban not going to dolphins yet the miami dolphins will put their courtship of lsu coach nick saban on hold to comply with the nfl's hiring policy by interviewing at least one minority candidate  a team source told the associated press last night. type=str,\n",
       "'label': 4 type=int,\n",
       "'description_words': ['saban', 'not', 'going', 'to', 'dolphins', 'yet', 'the', 'miami', 'dolphins', 'will', 'put', 'their', 'courtship', 'of', 'lsu', 'coach', 'nick', 'saban', 'on', 'hold', 'to', 'comply', 'with', 'the', \"nfl's\", 'hiring', 'policy', 'by', 'interviewing', 'at', 'least', 'one', 'minority', 'candidate', 'a', 'team', 'source', 'told', 'the', 'associated', 'press', 'last', 'night.'] type=list},\n",
       "{'a': 119998 type=str,\n",
       "'text': today's nfl games pittsburgh at ny giants time: 1:30 p.m. line: steelers by 10. records: steelers 12-1  giants 5-8. vs. spread: steelers 10-1-2  giants 5-8. series: giants lead  43-27-3. comments: think the giants knew ben roethlisberger was available on draft day when they broke the bank and traded for eli manning? . . . all big ben has done this year is complete ... type=str,\n",
       "'label': 4 type=int,\n",
       "'description_words': [\"today's\", 'nfl', 'games', 'pittsburgh', 'at', 'ny', 'giants', 'time:', '1:30', 'p.m.', 'line:', 'steelers', 'by', '10.', 'records:', 'steelers', '12-1', 'giants', '5-8.', 'vs.', 'spread:', 'steelers', '10-1-2', 'giants', '5-8.', 'series:', 'giants', 'lead', '43-27-3.', 'comments:', 'think', 'the', 'giants', 'knew', 'ben', 'roethlisberger', 'was', 'available', 'on', 'draft', 'day', 'when', 'they', 'broke', 'the', 'bank', 'and', 'traded', 'for', 'eli', 'manning?', '.', '.', '.', 'all', 'big', 'ben', 'has', 'done', 'this', 'year', 'is', 'complete', '...'] type=list},\n",
       "{'a': 119999 type=str,\n",
       "'text': nets get carter from raptors indianapolis -- all-star vince carter was traded by the toronto raptors to the new jersey nets for alonzo mourning  eric williams  aaron williams  and a pair of first-round draft picks yesterday. type=str,\n",
       "'label': 4 type=int,\n",
       "'description_words': ['nets', 'get', 'carter', 'from', 'raptors', 'indianapolis', '--', 'all-star', 'vince', 'carter', 'was', 'traded', 'by', 'the', 'toronto', 'raptors', 'to', 'the', 'new', 'jersey', 'nets', 'for', 'alonzo', 'mourning', 'eric', 'williams', 'aaron', 'williams', 'and', 'a', 'pair', 'of', 'first-round', 'draft', 'picks', 'yesterday.'] type=list})"
      ]
     },
     "execution_count": 56,
     "metadata": {},
     "output_type": "execute_result"
    }
   ],
   "source": [
    "data_train"
   ]
  },
  {
   "cell_type": "markdown",
   "metadata": {},
   "source": [
    "分词后的长度"
   ]
  },
  {
   "cell_type": "code",
   "execution_count": 57,
   "metadata": {},
   "outputs": [],
   "source": [
    "data_train.apply(lambda x: len(x['description_words']),new_field_name='description_seq_len')\n",
    "data_test.apply(lambda x: len(x['description_words']),new_field_name='description_seq_len')"
   ]
  },
  {
   "cell_type": "markdown",
   "metadata": {},
   "source": [
    "计算最长的长度"
   ]
  },
  {
   "cell_type": "code",
   "execution_count": 58,
   "metadata": {},
   "outputs": [],
   "source": [
    "max_seq_len_train=0\n",
    "max_seq_len_test=0\n",
    "for i in range (len(data_train)):\n",
    "    if(data_train[i]['description_seq_len'] > max_seq_len_train):\n",
    "        max_seq_len_train = data_train[i]['description_seq_len']\n",
    "    else:\n",
    "        pass\n",
    "for i in range (len(data_test)):\n",
    "    if(data_test[i]['description_seq_len'] > max_seq_len_test):\n",
    "        max_seq_len_test = data_test[i]['description_seq_len']\n",
    "    else:\n",
    "        pass"
   ]
  },
  {
   "cell_type": "code",
   "execution_count": 59,
   "metadata": {},
   "outputs": [
    {
     "name": "stdout",
     "output_type": "stream",
     "text": [
      "max_sentence_length: 177\n"
     ]
    }
   ],
   "source": [
    "max_sentence_length = max_seq_len_train\n",
    "if (max_seq_len_test > max_sentence_length):\n",
    "    max_sentence_length = max_seq_len_test\n",
    "print ('max_sentence_length:',max_sentence_length)"
   ]
  },
  {
   "cell_type": "markdown",
   "metadata": {},
   "source": [
    "将分词作为输入"
   ]
  },
  {
   "cell_type": "code",
   "execution_count": 60,
   "metadata": {},
   "outputs": [],
   "source": [
    "data_train.set_input(\"description_words\")\n",
    "data_test.set_input(\"description_words\")"
   ]
  },
  {
   "cell_type": "markdown",
   "metadata": {},
   "source": [
    "设置label为输出"
   ]
  },
  {
   "cell_type": "code",
   "execution_count": 61,
   "metadata": {},
   "outputs": [],
   "source": [
    "data_train.set_target(\"label\")\n",
    "data_test.set_target(\"label\")"
   ]
  },
  {
   "cell_type": "markdown",
   "metadata": {},
   "source": [
    "根据训练集来建立词典"
   ]
  },
  {
   "cell_type": "code",
   "execution_count": 62,
   "metadata": {},
   "outputs": [],
   "source": [
    "vocab = Vocabulary(min_freq=2)\n",
    "data_train.apply(lambda x:[vocab.add(word) for word in x['description_words']])\n",
    "vocab.build_vocab()"
   ]
  },
  {
   "cell_type": "markdown",
   "metadata": {},
   "source": [
    "将词典的index索引替换单词"
   ]
  },
  {
   "cell_type": "code",
   "execution_count": 63,
   "metadata": {},
   "outputs": [],
   "source": [
    "data_train.apply(lambda x: [vocab.to_index(word) for word in x['description_words']],new_field_name='description_words')\n",
    "data_test.apply(lambda x: [vocab.to_index(word) for word in x['description_words']],new_field_name='description_words')"
   ]
  },
  {
   "cell_type": "code",
   "execution_count": 65,
   "metadata": {},
   "outputs": [
    {
     "data": {
      "text/plain": [
       "DataSet({'a': 0 type=str,\n",
       "'text': wall st. bears claw back into the black (reuters) reuters - short-sellers  wall street's dwindling\\band of ultra-cynics  are seeing green again. type=str,\n",
       "'label': 1 type=int,\n",
       "'description_words': [386, 455, 1663, 15976, 102, 54, 2, 839, 29, 91, 10, 50794, 386, 6893, 1, 5, 50795, 35, 3937, 760, 2619] type=list,\n",
       "'description_seq_len': 21 type=int},\n",
       "{'a': 1 type=str,\n",
       "'text': carlyle looks toward commercial aerospace (reuters) reuters - private investment firm carlyle group \\which has a reputation for making well-timed and occasionally\\controversial plays in the defense industry  has quietly placed\\its bets on another part of the market. type=str,\n",
       "'label': 1 type=int,\n",
       "'description_words': [17218, 1011, 794, 1220, 4211, 29, 91, 10, 889, 761, 307, 17218, 89, 31956, 20, 4, 4650, 9, 528, 50796, 7, 1, 2128, 6, 2, 504, 253, 20, 3938, 1, 6809, 8, 189, 323, 5, 2, 1290] type=list,\n",
       "'description_seq_len': 37 type=int},\n",
       "{'a': 2 type=str,\n",
       "'text': oil and economy cloud stocks' outlook (reuters) reuters - soaring crude prices plus worries\\about the economy and the outlook for earnings are expected to\\hang over the stock market next week during the depth of the\\summer doldrums. type=str,\n",
       "'label': 1 type=int,\n",
       "'description_words': [46, 7, 385, 4615, 31957, 771, 29, 91, 10, 2301, 401, 84, 4188, 28969, 2, 385, 7, 2, 771, 9, 260, 35, 225, 50797, 33, 2, 275, 130, 96, 94, 193, 2, 8293, 5, 41618, 26593] type=list,\n",
       "'description_seq_len': 36 type=int},\n",
       "{'a': 3 type=str,\n",
       "'text': iraq halts oil exports from main southern pipeline (reuters) reuters - authorities have halted oil export\\flows from the main pipeline in southern iraq after\\intelligence showed a rebel militia could strike\\infrastructure  an oil official said on saturday. type=str,\n",
       "'label': 1 type=int,\n",
       "'description_words': [71, 7595, 46, 1922, 22, 847, 480, 2832, 29, 91, 10, 818, 32, 5133, 46, 1, 22, 2, 847, 2832, 6, 480, 71, 1, 750, 4, 864, 2572, 79, 1, 24, 46, 282, 23, 8, 680] type=list,\n",
       "'description_seq_len': 36 type=int},\n",
       "{'a': 4 type=str,\n",
       "'text': oil prices soar to all-time record  posing new menace to us economy (afp) afp - tearaway world oil prices  toppling records and straining wallets  present a new economic menace barely three months before the us presidential elections. type=str,\n",
       "'label': 1 type=int,\n",
       "'description_words': [46, 84, 4508, 3, 3498, 126, 7675, 18, 13268, 3, 30, 385, 187, 248, 10, 1, 48, 46, 84, 11725, 1775, 7, 14913, 11997, 3684, 4, 18, 317, 13268, 3392, 80, 325, 148, 2, 30, 356, 3764] type=list,\n",
       "'description_seq_len': 37 type=int}\n",
       "...\n",
       "{'a': 119995 type=str,\n",
       "'text': pakistan's musharraf says won't quit as army chief  karachi (reuters) - pakistani president pervez musharraf  has said he will stay on as army chief  reneging on a pledge to  quit the powerful post by the end of the year. type=str,\n",
       "'label': 3 type=int,\n",
       "'description_words': [6689, 1629, 78, 1726, 2017, 14, 439, 149, 7009, 29, 10, 1454, 67, 2522, 1629, 20, 23, 41, 26, 1089, 8, 14, 439, 149, 26106, 8, 4, 4060, 3, 2017, 2, 878, 1100, 19, 2, 137, 5, 2, 487] type=list,\n",
       "'description_seq_len': 39 type=int},\n",
       "{'a': 119996 type=str,\n",
       "'text': renteria signing a top-shelf deal red sox general manager theo epstein acknowledged edgar renteria was more a luxury for the 2005 red sox than a necessity. but there's nothing wrong with getting the keys to a bmw  and that's what the four-time all-star and two-time gold glover is in the eyes of the red sox. type=str,\n",
       "'label': 4 type=int,\n",
       "'description_words': [9847, 2551, 4, 36894, 111, 180, 286, 306, 500, 6379, 11230, 4460, 9934, 9847, 28, 40, 4, 3476, 9, 2, 448, 180, 286, 57, 4, 42116, 37, 3287, 1793, 2312, 13, 835, 2, 6375, 3, 4, 6540, 7, 2524, 181, 2, 12044, 3548, 7, 5783, 250, 53462, 17, 6, 2, 1466, 5, 2, 180, 7421] type=list,\n",
       "'description_seq_len': 55 type=int},\n",
       "{'a': 119997 type=str,\n",
       "'text': saban not going to dolphins yet the miami dolphins will put their courtship of lsu coach nick saban on hold to comply with the nfl's hiring policy by interviewing at least one minority candidate  a team source told the associated press last night. type=str,\n",
       "'label': 4 type=int,\n",
       "'description_words': [8289, 50, 637, 3, 1486, 727, 2, 828, 1486, 26, 379, 34, 20359, 5, 3884, 213, 3824, 8289, 8, 636, 3, 6188, 13, 2, 9464, 3075, 966, 19, 24131, 15, 179, 49, 4123, 1451, 4, 104, 604, 533, 2, 1657, 471, 56, 510] type=list,\n",
       "'description_seq_len': 43 type=int},\n",
       "{'a': 119998 type=str,\n",
       "'text': today's nfl games pittsburgh at ny giants time: 1:30 p.m. line: steelers by 10. records: steelers 12-1  giants 5-8. vs. spread: steelers 10-1-2  giants 5-8. series: giants lead  43-27-3. comments: think the giants knew ben roethlisberger was available on draft day when they broke the bank and traded for eli manning? . . . all big ben has done this year is complete ... type=str,\n",
       "'label': 4 type=int,\n",
       "'description_words': [4189, 793, 235, 1651, 15, 2608, 598, 20315, 21019, 3096, 17795, 2444, 19, 7960, 34179, 2444, 43485, 598, 70017, 1314, 59923, 2444, 64028, 598, 70017, 22104, 598, 153, 1, 12578, 1345, 2, 598, 2808, 3151, 7786, 28, 1000, 8, 2056, 125, 77, 59, 1621, 2, 186, 7, 2642, 9, 3619, 56704, 2216, 2216, 2216, 116, 221, 3151, 20, 1797, 43, 82, 17, 1636, 299] type=list,\n",
       "'description_seq_len': 64 type=int},\n",
       "{'a': 119999 type=str,\n",
       "'text': nets get carter from raptors indianapolis -- all-star vince carter was traded by the toronto raptors to the new jersey nets for alonzo mourning  eric williams  aaron williams  and a pair of first-round draft picks yesterday. type=str,\n",
       "'label': 4 type=int,\n",
       "'description_words': [2319, 197, 2485, 22, 3166, 2246, 44, 3548, 4978, 2485, 28, 2642, 19, 2, 713, 3166, 3, 2, 18, 2638, 2319, 9, 9327, 3989, 4440, 639, 4402, 639, 7, 4, 1907, 5, 3921, 2056, 3337, 583] type=list,\n",
       "'description_seq_len': 36 type=int})"
      ]
     },
     "execution_count": 65,
     "metadata": {},
     "output_type": "execute_result"
    }
   ],
   "source": [
    "data_train"
   ]
  },
  {
   "cell_type": "markdown",
   "metadata": {},
   "source": [
    "将长度不满足最长长度的句子用“0”来填充"
   ]
  },
  {
   "cell_type": "code",
   "execution_count": 26,
   "metadata": {},
   "outputs": [],
   "source": [
    "def padding_words(data):\n",
    "    for i in range(len(data)):\n",
    "        if data[i]['description_seq_len'] <= max_sentence_length:\n",
    "            padding = [0] * (max_sentence_length - data[i]['description_seq_len'])\n",
    "            data[i]['description_words'] += padding\n",
    "        else:\n",
    "            pass\n",
    "    return data"
   ]
  },
  {
   "cell_type": "code",
   "execution_count": 66,
   "metadata": {},
   "outputs": [],
   "source": [
    "data_train= padding_words(data_train)\n",
    "data_test = padding_words(data_test)\n",
    "data_train.apply(lambda x: len(x['description_words']), new_field_name='description_seq_len')\n",
    "data_test.apply(lambda x: len(x['description_words']), new_field_name='description_seq_len')"
   ]
  },
  {
   "cell_type": "code",
   "execution_count": 67,
   "metadata": {},
   "outputs": [
    {
     "data": {
      "text/plain": [
       "DataSet({'a': 0 type=str,\n",
       "'text': wall st. bears claw back into the black (reuters) reuters - short-sellers  wall street's dwindling\\band of ultra-cynics  are seeing green again. type=str,\n",
       "'label': 1 type=int,\n",
       "'description_words': [386, 455, 1663, 15976, 102, 54, 2, 839, 29, 91, 10, 50794, 386, 6893, 1, 5, 50795, 35, 3937, 760, 2619, 0, 0, 0, 0, 0, 0, 0, 0, 0, 0, 0, 0, 0, 0, 0, 0, 0, 0, 0, 0, 0, 0, 0, 0, 0, 0, 0, 0, 0, 0, 0, 0, 0, 0, 0, 0, 0, 0, 0, 0, 0, 0, 0, 0, 0, 0, 0, 0, 0, 0, 0, 0, 0, 0, 0, 0, 0, 0, 0, 0, 0, 0, 0, 0, 0, 0, 0, 0, 0, 0, 0, 0, 0, 0, 0, 0, 0, 0, 0, 0, 0, 0, 0, 0, 0, 0, 0, 0, 0, 0, 0, 0, 0, 0, 0, 0, 0, 0, 0, 0, 0, 0, 0, 0, 0, 0, 0, 0, 0, 0, 0, 0, 0, 0, 0, 0, 0, 0, 0, 0, 0, 0, 0, 0, 0, 0, 0, 0, 0, 0, 0, 0, 0, 0, 0, 0, 0, 0, 0, 0, 0, 0, 0, 0, 0, 0, 0, 0, 0, 0, 0, 0, 0, 0, 0, 0] type=list,\n",
       "'description_seq_len': 177 type=int},\n",
       "{'a': 1 type=str,\n",
       "'text': carlyle looks toward commercial aerospace (reuters) reuters - private investment firm carlyle group \\which has a reputation for making well-timed and occasionally\\controversial plays in the defense industry  has quietly placed\\its bets on another part of the market. type=str,\n",
       "'label': 1 type=int,\n",
       "'description_words': [17218, 1011, 794, 1220, 4211, 29, 91, 10, 889, 761, 307, 17218, 89, 31956, 20, 4, 4650, 9, 528, 50796, 7, 1, 2128, 6, 2, 504, 253, 20, 3938, 1, 6809, 8, 189, 323, 5, 2, 1290, 0, 0, 0, 0, 0, 0, 0, 0, 0, 0, 0, 0, 0, 0, 0, 0, 0, 0, 0, 0, 0, 0, 0, 0, 0, 0, 0, 0, 0, 0, 0, 0, 0, 0, 0, 0, 0, 0, 0, 0, 0, 0, 0, 0, 0, 0, 0, 0, 0, 0, 0, 0, 0, 0, 0, 0, 0, 0, 0, 0, 0, 0, 0, 0, 0, 0, 0, 0, 0, 0, 0, 0, 0, 0, 0, 0, 0, 0, 0, 0, 0, 0, 0, 0, 0, 0, 0, 0, 0, 0, 0, 0, 0, 0, 0, 0, 0, 0, 0, 0, 0, 0, 0, 0, 0, 0, 0, 0, 0, 0, 0, 0, 0, 0, 0, 0, 0, 0, 0, 0, 0, 0, 0, 0, 0, 0, 0, 0, 0, 0, 0, 0, 0, 0, 0, 0, 0, 0, 0, 0] type=list,\n",
       "'description_seq_len': 177 type=int},\n",
       "{'a': 2 type=str,\n",
       "'text': oil and economy cloud stocks' outlook (reuters) reuters - soaring crude prices plus worries\\about the economy and the outlook for earnings are expected to\\hang over the stock market next week during the depth of the\\summer doldrums. type=str,\n",
       "'label': 1 type=int,\n",
       "'description_words': [46, 7, 385, 4615, 31957, 771, 29, 91, 10, 2301, 401, 84, 4188, 28969, 2, 385, 7, 2, 771, 9, 260, 35, 225, 50797, 33, 2, 275, 130, 96, 94, 193, 2, 8293, 5, 41618, 26593, 0, 0, 0, 0, 0, 0, 0, 0, 0, 0, 0, 0, 0, 0, 0, 0, 0, 0, 0, 0, 0, 0, 0, 0, 0, 0, 0, 0, 0, 0, 0, 0, 0, 0, 0, 0, 0, 0, 0, 0, 0, 0, 0, 0, 0, 0, 0, 0, 0, 0, 0, 0, 0, 0, 0, 0, 0, 0, 0, 0, 0, 0, 0, 0, 0, 0, 0, 0, 0, 0, 0, 0, 0, 0, 0, 0, 0, 0, 0, 0, 0, 0, 0, 0, 0, 0, 0, 0, 0, 0, 0, 0, 0, 0, 0, 0, 0, 0, 0, 0, 0, 0, 0, 0, 0, 0, 0, 0, 0, 0, 0, 0, 0, 0, 0, 0, 0, 0, 0, 0, 0, 0, 0, 0, 0, 0, 0, 0, 0, 0, 0, 0, 0, 0, 0, 0, 0, 0, 0, 0, 0] type=list,\n",
       "'description_seq_len': 177 type=int},\n",
       "{'a': 3 type=str,\n",
       "'text': iraq halts oil exports from main southern pipeline (reuters) reuters - authorities have halted oil export\\flows from the main pipeline in southern iraq after\\intelligence showed a rebel militia could strike\\infrastructure  an oil official said on saturday. type=str,\n",
       "'label': 1 type=int,\n",
       "'description_words': [71, 7595, 46, 1922, 22, 847, 480, 2832, 29, 91, 10, 818, 32, 5133, 46, 1, 22, 2, 847, 2832, 6, 480, 71, 1, 750, 4, 864, 2572, 79, 1, 24, 46, 282, 23, 8, 680, 0, 0, 0, 0, 0, 0, 0, 0, 0, 0, 0, 0, 0, 0, 0, 0, 0, 0, 0, 0, 0, 0, 0, 0, 0, 0, 0, 0, 0, 0, 0, 0, 0, 0, 0, 0, 0, 0, 0, 0, 0, 0, 0, 0, 0, 0, 0, 0, 0, 0, 0, 0, 0, 0, 0, 0, 0, 0, 0, 0, 0, 0, 0, 0, 0, 0, 0, 0, 0, 0, 0, 0, 0, 0, 0, 0, 0, 0, 0, 0, 0, 0, 0, 0, 0, 0, 0, 0, 0, 0, 0, 0, 0, 0, 0, 0, 0, 0, 0, 0, 0, 0, 0, 0, 0, 0, 0, 0, 0, 0, 0, 0, 0, 0, 0, 0, 0, 0, 0, 0, 0, 0, 0, 0, 0, 0, 0, 0, 0, 0, 0, 0, 0, 0, 0, 0, 0, 0, 0, 0, 0] type=list,\n",
       "'description_seq_len': 177 type=int},\n",
       "{'a': 4 type=str,\n",
       "'text': oil prices soar to all-time record  posing new menace to us economy (afp) afp - tearaway world oil prices  toppling records and straining wallets  present a new economic menace barely three months before the us presidential elections. type=str,\n",
       "'label': 1 type=int,\n",
       "'description_words': [46, 84, 4508, 3, 3498, 126, 7675, 18, 13268, 3, 30, 385, 187, 248, 10, 1, 48, 46, 84, 11725, 1775, 7, 14913, 11997, 3684, 4, 18, 317, 13268, 3392, 80, 325, 148, 2, 30, 356, 3764, 0, 0, 0, 0, 0, 0, 0, 0, 0, 0, 0, 0, 0, 0, 0, 0, 0, 0, 0, 0, 0, 0, 0, 0, 0, 0, 0, 0, 0, 0, 0, 0, 0, 0, 0, 0, 0, 0, 0, 0, 0, 0, 0, 0, 0, 0, 0, 0, 0, 0, 0, 0, 0, 0, 0, 0, 0, 0, 0, 0, 0, 0, 0, 0, 0, 0, 0, 0, 0, 0, 0, 0, 0, 0, 0, 0, 0, 0, 0, 0, 0, 0, 0, 0, 0, 0, 0, 0, 0, 0, 0, 0, 0, 0, 0, 0, 0, 0, 0, 0, 0, 0, 0, 0, 0, 0, 0, 0, 0, 0, 0, 0, 0, 0, 0, 0, 0, 0, 0, 0, 0, 0, 0, 0, 0, 0, 0, 0, 0, 0, 0, 0, 0, 0, 0, 0, 0, 0, 0, 0] type=list,\n",
       "'description_seq_len': 177 type=int}\n",
       "...\n",
       "{'a': 119995 type=str,\n",
       "'text': pakistan's musharraf says won't quit as army chief  karachi (reuters) - pakistani president pervez musharraf  has said he will stay on as army chief  reneging on a pledge to  quit the powerful post by the end of the year. type=str,\n",
       "'label': 3 type=int,\n",
       "'description_words': [6689, 1629, 78, 1726, 2017, 14, 439, 149, 7009, 29, 10, 1454, 67, 2522, 1629, 20, 23, 41, 26, 1089, 8, 14, 439, 149, 26106, 8, 4, 4060, 3, 2017, 2, 878, 1100, 19, 2, 137, 5, 2, 487, 0, 0, 0, 0, 0, 0, 0, 0, 0, 0, 0, 0, 0, 0, 0, 0, 0, 0, 0, 0, 0, 0, 0, 0, 0, 0, 0, 0, 0, 0, 0, 0, 0, 0, 0, 0, 0, 0, 0, 0, 0, 0, 0, 0, 0, 0, 0, 0, 0, 0, 0, 0, 0, 0, 0, 0, 0, 0, 0, 0, 0, 0, 0, 0, 0, 0, 0, 0, 0, 0, 0, 0, 0, 0, 0, 0, 0, 0, 0, 0, 0, 0, 0, 0, 0, 0, 0, 0, 0, 0, 0, 0, 0, 0, 0, 0, 0, 0, 0, 0, 0, 0, 0, 0, 0, 0, 0, 0, 0, 0, 0, 0, 0, 0, 0, 0, 0, 0, 0, 0, 0, 0, 0, 0, 0, 0, 0, 0, 0, 0, 0, 0, 0, 0, 0, 0, 0, 0] type=list,\n",
       "'description_seq_len': 177 type=int},\n",
       "{'a': 119996 type=str,\n",
       "'text': renteria signing a top-shelf deal red sox general manager theo epstein acknowledged edgar renteria was more a luxury for the 2005 red sox than a necessity. but there's nothing wrong with getting the keys to a bmw  and that's what the four-time all-star and two-time gold glover is in the eyes of the red sox. type=str,\n",
       "'label': 4 type=int,\n",
       "'description_words': [9847, 2551, 4, 36894, 111, 180, 286, 306, 500, 6379, 11230, 4460, 9934, 9847, 28, 40, 4, 3476, 9, 2, 448, 180, 286, 57, 4, 42116, 37, 3287, 1793, 2312, 13, 835, 2, 6375, 3, 4, 6540, 7, 2524, 181, 2, 12044, 3548, 7, 5783, 250, 53462, 17, 6, 2, 1466, 5, 2, 180, 7421, 0, 0, 0, 0, 0, 0, 0, 0, 0, 0, 0, 0, 0, 0, 0, 0, 0, 0, 0, 0, 0, 0, 0, 0, 0, 0, 0, 0, 0, 0, 0, 0, 0, 0, 0, 0, 0, 0, 0, 0, 0, 0, 0, 0, 0, 0, 0, 0, 0, 0, 0, 0, 0, 0, 0, 0, 0, 0, 0, 0, 0, 0, 0, 0, 0, 0, 0, 0, 0, 0, 0, 0, 0, 0, 0, 0, 0, 0, 0, 0, 0, 0, 0, 0, 0, 0, 0, 0, 0, 0, 0, 0, 0, 0, 0, 0, 0, 0, 0, 0, 0, 0, 0, 0, 0, 0, 0, 0, 0, 0, 0, 0, 0, 0, 0, 0, 0, 0, 0, 0, 0, 0] type=list,\n",
       "'description_seq_len': 177 type=int},\n",
       "{'a': 119997 type=str,\n",
       "'text': saban not going to dolphins yet the miami dolphins will put their courtship of lsu coach nick saban on hold to comply with the nfl's hiring policy by interviewing at least one minority candidate  a team source told the associated press last night. type=str,\n",
       "'label': 4 type=int,\n",
       "'description_words': [8289, 50, 637, 3, 1486, 727, 2, 828, 1486, 26, 379, 34, 20359, 5, 3884, 213, 3824, 8289, 8, 636, 3, 6188, 13, 2, 9464, 3075, 966, 19, 24131, 15, 179, 49, 4123, 1451, 4, 104, 604, 533, 2, 1657, 471, 56, 510, 0, 0, 0, 0, 0, 0, 0, 0, 0, 0, 0, 0, 0, 0, 0, 0, 0, 0, 0, 0, 0, 0, 0, 0, 0, 0, 0, 0, 0, 0, 0, 0, 0, 0, 0, 0, 0, 0, 0, 0, 0, 0, 0, 0, 0, 0, 0, 0, 0, 0, 0, 0, 0, 0, 0, 0, 0, 0, 0, 0, 0, 0, 0, 0, 0, 0, 0, 0, 0, 0, 0, 0, 0, 0, 0, 0, 0, 0, 0, 0, 0, 0, 0, 0, 0, 0, 0, 0, 0, 0, 0, 0, 0, 0, 0, 0, 0, 0, 0, 0, 0, 0, 0, 0, 0, 0, 0, 0, 0, 0, 0, 0, 0, 0, 0, 0, 0, 0, 0, 0, 0, 0, 0, 0, 0, 0, 0, 0, 0, 0, 0, 0, 0, 0] type=list,\n",
       "'description_seq_len': 177 type=int},\n",
       "{'a': 119998 type=str,\n",
       "'text': today's nfl games pittsburgh at ny giants time: 1:30 p.m. line: steelers by 10. records: steelers 12-1  giants 5-8. vs. spread: steelers 10-1-2  giants 5-8. series: giants lead  43-27-3. comments: think the giants knew ben roethlisberger was available on draft day when they broke the bank and traded for eli manning? . . . all big ben has done this year is complete ... type=str,\n",
       "'label': 4 type=int,\n",
       "'description_words': [4189, 793, 235, 1651, 15, 2608, 598, 20315, 21019, 3096, 17795, 2444, 19, 7960, 34179, 2444, 43485, 598, 70017, 1314, 59923, 2444, 64028, 598, 70017, 22104, 598, 153, 1, 12578, 1345, 2, 598, 2808, 3151, 7786, 28, 1000, 8, 2056, 125, 77, 59, 1621, 2, 186, 7, 2642, 9, 3619, 56704, 2216, 2216, 2216, 116, 221, 3151, 20, 1797, 43, 82, 17, 1636, 299, 0, 0, 0, 0, 0, 0, 0, 0, 0, 0, 0, 0, 0, 0, 0, 0, 0, 0, 0, 0, 0, 0, 0, 0, 0, 0, 0, 0, 0, 0, 0, 0, 0, 0, 0, 0, 0, 0, 0, 0, 0, 0, 0, 0, 0, 0, 0, 0, 0, 0, 0, 0, 0, 0, 0, 0, 0, 0, 0, 0, 0, 0, 0, 0, 0, 0, 0, 0, 0, 0, 0, 0, 0, 0, 0, 0, 0, 0, 0, 0, 0, 0, 0, 0, 0, 0, 0, 0, 0, 0, 0, 0, 0, 0, 0, 0, 0, 0, 0, 0, 0, 0, 0, 0, 0, 0, 0, 0, 0, 0, 0, 0, 0] type=list,\n",
       "'description_seq_len': 177 type=int},\n",
       "{'a': 119999 type=str,\n",
       "'text': nets get carter from raptors indianapolis -- all-star vince carter was traded by the toronto raptors to the new jersey nets for alonzo mourning  eric williams  aaron williams  and a pair of first-round draft picks yesterday. type=str,\n",
       "'label': 4 type=int,\n",
       "'description_words': [2319, 197, 2485, 22, 3166, 2246, 44, 3548, 4978, 2485, 28, 2642, 19, 2, 713, 3166, 3, 2, 18, 2638, 2319, 9, 9327, 3989, 4440, 639, 4402, 639, 7, 4, 1907, 5, 3921, 2056, 3337, 583, 0, 0, 0, 0, 0, 0, 0, 0, 0, 0, 0, 0, 0, 0, 0, 0, 0, 0, 0, 0, 0, 0, 0, 0, 0, 0, 0, 0, 0, 0, 0, 0, 0, 0, 0, 0, 0, 0, 0, 0, 0, 0, 0, 0, 0, 0, 0, 0, 0, 0, 0, 0, 0, 0, 0, 0, 0, 0, 0, 0, 0, 0, 0, 0, 0, 0, 0, 0, 0, 0, 0, 0, 0, 0, 0, 0, 0, 0, 0, 0, 0, 0, 0, 0, 0, 0, 0, 0, 0, 0, 0, 0, 0, 0, 0, 0, 0, 0, 0, 0, 0, 0, 0, 0, 0, 0, 0, 0, 0, 0, 0, 0, 0, 0, 0, 0, 0, 0, 0, 0, 0, 0, 0, 0, 0, 0, 0, 0, 0, 0, 0, 0, 0, 0, 0, 0, 0, 0, 0, 0, 0] type=list,\n",
       "'description_seq_len': 177 type=int})"
      ]
     },
     "execution_count": 67,
     "metadata": {},
     "output_type": "execute_result"
    }
   ],
   "source": [
    "data_train"
   ]
  },
  {
   "cell_type": "markdown",
   "metadata": {},
   "source": [
    "文档重命名"
   ]
  },
  {
   "cell_type": "code",
   "execution_count": 79,
   "metadata": {},
   "outputs": [
    {
     "ename": "KeyError",
     "evalue": "'DataSet has no field named description_words.'",
     "output_type": "error",
     "traceback": [
      "\u001b[0;31m---------------------------------------------------------------------------\u001b[0m",
      "\u001b[0;31mKeyError\u001b[0m                                  Traceback (most recent call last)",
      "\u001b[0;32m<ipython-input-79-cf32f327645e>\u001b[0m in \u001b[0;36m<module>\u001b[0;34m()\u001b[0m\n\u001b[0;32m----> 1\u001b[0;31m \u001b[0mdata_train\u001b[0m\u001b[0;34m.\u001b[0m\u001b[0mrename_field\u001b[0m\u001b[0;34m(\u001b[0m\u001b[0;34m\"description_words\"\u001b[0m\u001b[0;34m,\u001b[0m\u001b[0;34m\"description_word_seq\"\u001b[0m\u001b[0;34m)\u001b[0m\u001b[0;34m\u001b[0m\u001b[0;34m\u001b[0m\u001b[0m\n\u001b[0m\u001b[1;32m      2\u001b[0m \u001b[0mdata_train\u001b[0m\u001b[0;34m.\u001b[0m\u001b[0mrename_field\u001b[0m\u001b[0;34m(\u001b[0m\u001b[0;34m\"label\"\u001b[0m\u001b[0;34m,\u001b[0m\u001b[0;34m\"label_seq\"\u001b[0m\u001b[0;34m)\u001b[0m\u001b[0;34m\u001b[0m\u001b[0;34m\u001b[0m\u001b[0m\n\u001b[1;32m      3\u001b[0m \u001b[0mdata_test\u001b[0m\u001b[0;34m.\u001b[0m\u001b[0mrename_field\u001b[0m\u001b[0;34m(\u001b[0m\u001b[0;34m\"description_words\"\u001b[0m\u001b[0;34m,\u001b[0m\u001b[0;34m\"description_word_seq\"\u001b[0m\u001b[0;34m)\u001b[0m\u001b[0;34m\u001b[0m\u001b[0;34m\u001b[0m\u001b[0m\n\u001b[1;32m      4\u001b[0m \u001b[0mdata_test\u001b[0m\u001b[0;34m.\u001b[0m\u001b[0mrename_field\u001b[0m\u001b[0;34m(\u001b[0m\u001b[0;34m\"label\"\u001b[0m\u001b[0;34m,\u001b[0m\u001b[0;34m\"label_seq\"\u001b[0m\u001b[0;34m)\u001b[0m\u001b[0;34m\u001b[0m\u001b[0;34m\u001b[0m\u001b[0m\n\u001b[1;32m      5\u001b[0m \u001b[0;34m\u001b[0m\u001b[0m\n",
      "\u001b[0;32m/home/wen/anaconda3/lib/python3.7/site-packages/fastNLP/core/dataset.py\u001b[0m in \u001b[0;36mrename_field\u001b[0;34m(self, old_name, new_name)\u001b[0m\n\u001b[1;32m    211\u001b[0m             \u001b[0mself\u001b[0m\u001b[0;34m.\u001b[0m\u001b[0mfield_arrays\u001b[0m\u001b[0;34m[\u001b[0m\u001b[0mnew_name\u001b[0m\u001b[0;34m]\u001b[0m\u001b[0;34m.\u001b[0m\u001b[0mname\u001b[0m \u001b[0;34m=\u001b[0m \u001b[0mnew_name\u001b[0m\u001b[0;34m\u001b[0m\u001b[0;34m\u001b[0m\u001b[0m\n\u001b[1;32m    212\u001b[0m         \u001b[0;32melse\u001b[0m\u001b[0;34m:\u001b[0m\u001b[0;34m\u001b[0m\u001b[0;34m\u001b[0m\u001b[0m\n\u001b[0;32m--> 213\u001b[0;31m             \u001b[0;32mraise\u001b[0m \u001b[0mKeyError\u001b[0m\u001b[0;34m(\u001b[0m\u001b[0;34m\"DataSet has no field named {}.\"\u001b[0m\u001b[0;34m.\u001b[0m\u001b[0mformat\u001b[0m\u001b[0;34m(\u001b[0m\u001b[0mold_name\u001b[0m\u001b[0;34m)\u001b[0m\u001b[0;34m)\u001b[0m\u001b[0;34m\u001b[0m\u001b[0;34m\u001b[0m\u001b[0m\n\u001b[0m\u001b[1;32m    214\u001b[0m \u001b[0;34m\u001b[0m\u001b[0m\n\u001b[1;32m    215\u001b[0m     \u001b[0;32mdef\u001b[0m \u001b[0mset_target\u001b[0m\u001b[0;34m(\u001b[0m\u001b[0mself\u001b[0m\u001b[0;34m,\u001b[0m \u001b[0;34m*\u001b[0m\u001b[0mfield_names\u001b[0m\u001b[0;34m,\u001b[0m \u001b[0mflag\u001b[0m\u001b[0;34m=\u001b[0m\u001b[0;32mTrue\u001b[0m\u001b[0;34m)\u001b[0m\u001b[0;34m:\u001b[0m\u001b[0;34m\u001b[0m\u001b[0;34m\u001b[0m\u001b[0m\n",
      "\u001b[0;31mKeyError\u001b[0m: 'DataSet has no field named description_words.'"
     ]
    }
   ],
   "source": [
    "data_train.rename_field(\"description_words\",\"description_word_seq\")\n",
    "data_train.rename_field(\"label\",\"label_seq\")\n",
    "data_test.rename_field(\"description_words\",\"description_word_seq\")\n",
    "data_test.rename_field(\"label\",\"label_seq\")"
   ]
  },
  {
   "cell_type": "code",
   "execution_count": 80,
   "metadata": {},
   "outputs": [],
   "source": [
    "\n",
    "data_train.set_input(\"description_word_seq\")\n",
    "data_test.set_input(\"description_word_seq\")\n",
    "data_train.set_target(\"label_seq\")\n",
    "data_test.set_target(\"label_seq\")"
   ]
  },
  {
   "cell_type": "code",
   "execution_count": 70,
   "metadata": {},
   "outputs": [
    {
     "data": {
      "text/plain": [
       "DataSet({'a': 0 type=str,\n",
       "'text': wall st. bears claw back into the black (reuters) reuters - short-sellers  wall street's dwindling\\band of ultra-cynics  are seeing green again. type=str,\n",
       "'description_seq_len': 177 type=int,\n",
       "'description_word_seq': [386, 455, 1663, 15976, 102, 54, 2, 839, 29, 91, 10, 50794, 386, 6893, 1, 5, 50795, 35, 3937, 760, 2619, 0, 0, 0, 0, 0, 0, 0, 0, 0, 0, 0, 0, 0, 0, 0, 0, 0, 0, 0, 0, 0, 0, 0, 0, 0, 0, 0, 0, 0, 0, 0, 0, 0, 0, 0, 0, 0, 0, 0, 0, 0, 0, 0, 0, 0, 0, 0, 0, 0, 0, 0, 0, 0, 0, 0, 0, 0, 0, 0, 0, 0, 0, 0, 0, 0, 0, 0, 0, 0, 0, 0, 0, 0, 0, 0, 0, 0, 0, 0, 0, 0, 0, 0, 0, 0, 0, 0, 0, 0, 0, 0, 0, 0, 0, 0, 0, 0, 0, 0, 0, 0, 0, 0, 0, 0, 0, 0, 0, 0, 0, 0, 0, 0, 0, 0, 0, 0, 0, 0, 0, 0, 0, 0, 0, 0, 0, 0, 0, 0, 0, 0, 0, 0, 0, 0, 0, 0, 0, 0, 0, 0, 0, 0, 0, 0, 0, 0, 0, 0, 0, 0, 0, 0, 0, 0, 0] type=list,\n",
       "'label_seq': 1 type=int},\n",
       "{'a': 1 type=str,\n",
       "'text': carlyle looks toward commercial aerospace (reuters) reuters - private investment firm carlyle group \\which has a reputation for making well-timed and occasionally\\controversial plays in the defense industry  has quietly placed\\its bets on another part of the market. type=str,\n",
       "'description_seq_len': 177 type=int,\n",
       "'description_word_seq': [17218, 1011, 794, 1220, 4211, 29, 91, 10, 889, 761, 307, 17218, 89, 31956, 20, 4, 4650, 9, 528, 50796, 7, 1, 2128, 6, 2, 504, 253, 20, 3938, 1, 6809, 8, 189, 323, 5, 2, 1290, 0, 0, 0, 0, 0, 0, 0, 0, 0, 0, 0, 0, 0, 0, 0, 0, 0, 0, 0, 0, 0, 0, 0, 0, 0, 0, 0, 0, 0, 0, 0, 0, 0, 0, 0, 0, 0, 0, 0, 0, 0, 0, 0, 0, 0, 0, 0, 0, 0, 0, 0, 0, 0, 0, 0, 0, 0, 0, 0, 0, 0, 0, 0, 0, 0, 0, 0, 0, 0, 0, 0, 0, 0, 0, 0, 0, 0, 0, 0, 0, 0, 0, 0, 0, 0, 0, 0, 0, 0, 0, 0, 0, 0, 0, 0, 0, 0, 0, 0, 0, 0, 0, 0, 0, 0, 0, 0, 0, 0, 0, 0, 0, 0, 0, 0, 0, 0, 0, 0, 0, 0, 0, 0, 0, 0, 0, 0, 0, 0, 0, 0, 0, 0, 0, 0, 0, 0, 0, 0, 0] type=list,\n",
       "'label_seq': 1 type=int},\n",
       "{'a': 2 type=str,\n",
       "'text': oil and economy cloud stocks' outlook (reuters) reuters - soaring crude prices plus worries\\about the economy and the outlook for earnings are expected to\\hang over the stock market next week during the depth of the\\summer doldrums. type=str,\n",
       "'description_seq_len': 177 type=int,\n",
       "'description_word_seq': [46, 7, 385, 4615, 31957, 771, 29, 91, 10, 2301, 401, 84, 4188, 28969, 2, 385, 7, 2, 771, 9, 260, 35, 225, 50797, 33, 2, 275, 130, 96, 94, 193, 2, 8293, 5, 41618, 26593, 0, 0, 0, 0, 0, 0, 0, 0, 0, 0, 0, 0, 0, 0, 0, 0, 0, 0, 0, 0, 0, 0, 0, 0, 0, 0, 0, 0, 0, 0, 0, 0, 0, 0, 0, 0, 0, 0, 0, 0, 0, 0, 0, 0, 0, 0, 0, 0, 0, 0, 0, 0, 0, 0, 0, 0, 0, 0, 0, 0, 0, 0, 0, 0, 0, 0, 0, 0, 0, 0, 0, 0, 0, 0, 0, 0, 0, 0, 0, 0, 0, 0, 0, 0, 0, 0, 0, 0, 0, 0, 0, 0, 0, 0, 0, 0, 0, 0, 0, 0, 0, 0, 0, 0, 0, 0, 0, 0, 0, 0, 0, 0, 0, 0, 0, 0, 0, 0, 0, 0, 0, 0, 0, 0, 0, 0, 0, 0, 0, 0, 0, 0, 0, 0, 0, 0, 0, 0, 0, 0, 0] type=list,\n",
       "'label_seq': 1 type=int},\n",
       "{'a': 3 type=str,\n",
       "'text': iraq halts oil exports from main southern pipeline (reuters) reuters - authorities have halted oil export\\flows from the main pipeline in southern iraq after\\intelligence showed a rebel militia could strike\\infrastructure  an oil official said on saturday. type=str,\n",
       "'description_seq_len': 177 type=int,\n",
       "'description_word_seq': [71, 7595, 46, 1922, 22, 847, 480, 2832, 29, 91, 10, 818, 32, 5133, 46, 1, 22, 2, 847, 2832, 6, 480, 71, 1, 750, 4, 864, 2572, 79, 1, 24, 46, 282, 23, 8, 680, 0, 0, 0, 0, 0, 0, 0, 0, 0, 0, 0, 0, 0, 0, 0, 0, 0, 0, 0, 0, 0, 0, 0, 0, 0, 0, 0, 0, 0, 0, 0, 0, 0, 0, 0, 0, 0, 0, 0, 0, 0, 0, 0, 0, 0, 0, 0, 0, 0, 0, 0, 0, 0, 0, 0, 0, 0, 0, 0, 0, 0, 0, 0, 0, 0, 0, 0, 0, 0, 0, 0, 0, 0, 0, 0, 0, 0, 0, 0, 0, 0, 0, 0, 0, 0, 0, 0, 0, 0, 0, 0, 0, 0, 0, 0, 0, 0, 0, 0, 0, 0, 0, 0, 0, 0, 0, 0, 0, 0, 0, 0, 0, 0, 0, 0, 0, 0, 0, 0, 0, 0, 0, 0, 0, 0, 0, 0, 0, 0, 0, 0, 0, 0, 0, 0, 0, 0, 0, 0, 0, 0] type=list,\n",
       "'label_seq': 1 type=int},\n",
       "{'a': 4 type=str,\n",
       "'text': oil prices soar to all-time record  posing new menace to us economy (afp) afp - tearaway world oil prices  toppling records and straining wallets  present a new economic menace barely three months before the us presidential elections. type=str,\n",
       "'description_seq_len': 177 type=int,\n",
       "'description_word_seq': [46, 84, 4508, 3, 3498, 126, 7675, 18, 13268, 3, 30, 385, 187, 248, 10, 1, 48, 46, 84, 11725, 1775, 7, 14913, 11997, 3684, 4, 18, 317, 13268, 3392, 80, 325, 148, 2, 30, 356, 3764, 0, 0, 0, 0, 0, 0, 0, 0, 0, 0, 0, 0, 0, 0, 0, 0, 0, 0, 0, 0, 0, 0, 0, 0, 0, 0, 0, 0, 0, 0, 0, 0, 0, 0, 0, 0, 0, 0, 0, 0, 0, 0, 0, 0, 0, 0, 0, 0, 0, 0, 0, 0, 0, 0, 0, 0, 0, 0, 0, 0, 0, 0, 0, 0, 0, 0, 0, 0, 0, 0, 0, 0, 0, 0, 0, 0, 0, 0, 0, 0, 0, 0, 0, 0, 0, 0, 0, 0, 0, 0, 0, 0, 0, 0, 0, 0, 0, 0, 0, 0, 0, 0, 0, 0, 0, 0, 0, 0, 0, 0, 0, 0, 0, 0, 0, 0, 0, 0, 0, 0, 0, 0, 0, 0, 0, 0, 0, 0, 0, 0, 0, 0, 0, 0, 0, 0, 0, 0, 0, 0] type=list,\n",
       "'label_seq': 1 type=int}\n",
       "...\n",
       "{'a': 119995 type=str,\n",
       "'text': pakistan's musharraf says won't quit as army chief  karachi (reuters) - pakistani president pervez musharraf  has said he will stay on as army chief  reneging on a pledge to  quit the powerful post by the end of the year. type=str,\n",
       "'description_seq_len': 177 type=int,\n",
       "'description_word_seq': [6689, 1629, 78, 1726, 2017, 14, 439, 149, 7009, 29, 10, 1454, 67, 2522, 1629, 20, 23, 41, 26, 1089, 8, 14, 439, 149, 26106, 8, 4, 4060, 3, 2017, 2, 878, 1100, 19, 2, 137, 5, 2, 487, 0, 0, 0, 0, 0, 0, 0, 0, 0, 0, 0, 0, 0, 0, 0, 0, 0, 0, 0, 0, 0, 0, 0, 0, 0, 0, 0, 0, 0, 0, 0, 0, 0, 0, 0, 0, 0, 0, 0, 0, 0, 0, 0, 0, 0, 0, 0, 0, 0, 0, 0, 0, 0, 0, 0, 0, 0, 0, 0, 0, 0, 0, 0, 0, 0, 0, 0, 0, 0, 0, 0, 0, 0, 0, 0, 0, 0, 0, 0, 0, 0, 0, 0, 0, 0, 0, 0, 0, 0, 0, 0, 0, 0, 0, 0, 0, 0, 0, 0, 0, 0, 0, 0, 0, 0, 0, 0, 0, 0, 0, 0, 0, 0, 0, 0, 0, 0, 0, 0, 0, 0, 0, 0, 0, 0, 0, 0, 0, 0, 0, 0, 0, 0, 0, 0, 0, 0, 0] type=list,\n",
       "'label_seq': 3 type=int},\n",
       "{'a': 119996 type=str,\n",
       "'text': renteria signing a top-shelf deal red sox general manager theo epstein acknowledged edgar renteria was more a luxury for the 2005 red sox than a necessity. but there's nothing wrong with getting the keys to a bmw  and that's what the four-time all-star and two-time gold glover is in the eyes of the red sox. type=str,\n",
       "'description_seq_len': 177 type=int,\n",
       "'description_word_seq': [9847, 2551, 4, 36894, 111, 180, 286, 306, 500, 6379, 11230, 4460, 9934, 9847, 28, 40, 4, 3476, 9, 2, 448, 180, 286, 57, 4, 42116, 37, 3287, 1793, 2312, 13, 835, 2, 6375, 3, 4, 6540, 7, 2524, 181, 2, 12044, 3548, 7, 5783, 250, 53462, 17, 6, 2, 1466, 5, 2, 180, 7421, 0, 0, 0, 0, 0, 0, 0, 0, 0, 0, 0, 0, 0, 0, 0, 0, 0, 0, 0, 0, 0, 0, 0, 0, 0, 0, 0, 0, 0, 0, 0, 0, 0, 0, 0, 0, 0, 0, 0, 0, 0, 0, 0, 0, 0, 0, 0, 0, 0, 0, 0, 0, 0, 0, 0, 0, 0, 0, 0, 0, 0, 0, 0, 0, 0, 0, 0, 0, 0, 0, 0, 0, 0, 0, 0, 0, 0, 0, 0, 0, 0, 0, 0, 0, 0, 0, 0, 0, 0, 0, 0, 0, 0, 0, 0, 0, 0, 0, 0, 0, 0, 0, 0, 0, 0, 0, 0, 0, 0, 0, 0, 0, 0, 0, 0, 0, 0, 0, 0, 0, 0, 0] type=list,\n",
       "'label_seq': 4 type=int},\n",
       "{'a': 119997 type=str,\n",
       "'text': saban not going to dolphins yet the miami dolphins will put their courtship of lsu coach nick saban on hold to comply with the nfl's hiring policy by interviewing at least one minority candidate  a team source told the associated press last night. type=str,\n",
       "'description_seq_len': 177 type=int,\n",
       "'description_word_seq': [8289, 50, 637, 3, 1486, 727, 2, 828, 1486, 26, 379, 34, 20359, 5, 3884, 213, 3824, 8289, 8, 636, 3, 6188, 13, 2, 9464, 3075, 966, 19, 24131, 15, 179, 49, 4123, 1451, 4, 104, 604, 533, 2, 1657, 471, 56, 510, 0, 0, 0, 0, 0, 0, 0, 0, 0, 0, 0, 0, 0, 0, 0, 0, 0, 0, 0, 0, 0, 0, 0, 0, 0, 0, 0, 0, 0, 0, 0, 0, 0, 0, 0, 0, 0, 0, 0, 0, 0, 0, 0, 0, 0, 0, 0, 0, 0, 0, 0, 0, 0, 0, 0, 0, 0, 0, 0, 0, 0, 0, 0, 0, 0, 0, 0, 0, 0, 0, 0, 0, 0, 0, 0, 0, 0, 0, 0, 0, 0, 0, 0, 0, 0, 0, 0, 0, 0, 0, 0, 0, 0, 0, 0, 0, 0, 0, 0, 0, 0, 0, 0, 0, 0, 0, 0, 0, 0, 0, 0, 0, 0, 0, 0, 0, 0, 0, 0, 0, 0, 0, 0, 0, 0, 0, 0, 0, 0, 0, 0, 0, 0, 0] type=list,\n",
       "'label_seq': 4 type=int},\n",
       "{'a': 119998 type=str,\n",
       "'text': today's nfl games pittsburgh at ny giants time: 1:30 p.m. line: steelers by 10. records: steelers 12-1  giants 5-8. vs. spread: steelers 10-1-2  giants 5-8. series: giants lead  43-27-3. comments: think the giants knew ben roethlisberger was available on draft day when they broke the bank and traded for eli manning? . . . all big ben has done this year is complete ... type=str,\n",
       "'description_seq_len': 177 type=int,\n",
       "'description_word_seq': [4189, 793, 235, 1651, 15, 2608, 598, 20315, 21019, 3096, 17795, 2444, 19, 7960, 34179, 2444, 43485, 598, 70017, 1314, 59923, 2444, 64028, 598, 70017, 22104, 598, 153, 1, 12578, 1345, 2, 598, 2808, 3151, 7786, 28, 1000, 8, 2056, 125, 77, 59, 1621, 2, 186, 7, 2642, 9, 3619, 56704, 2216, 2216, 2216, 116, 221, 3151, 20, 1797, 43, 82, 17, 1636, 299, 0, 0, 0, 0, 0, 0, 0, 0, 0, 0, 0, 0, 0, 0, 0, 0, 0, 0, 0, 0, 0, 0, 0, 0, 0, 0, 0, 0, 0, 0, 0, 0, 0, 0, 0, 0, 0, 0, 0, 0, 0, 0, 0, 0, 0, 0, 0, 0, 0, 0, 0, 0, 0, 0, 0, 0, 0, 0, 0, 0, 0, 0, 0, 0, 0, 0, 0, 0, 0, 0, 0, 0, 0, 0, 0, 0, 0, 0, 0, 0, 0, 0, 0, 0, 0, 0, 0, 0, 0, 0, 0, 0, 0, 0, 0, 0, 0, 0, 0, 0, 0, 0, 0, 0, 0, 0, 0, 0, 0, 0, 0, 0, 0] type=list,\n",
       "'label_seq': 4 type=int},\n",
       "{'a': 119999 type=str,\n",
       "'text': nets get carter from raptors indianapolis -- all-star vince carter was traded by the toronto raptors to the new jersey nets for alonzo mourning  eric williams  aaron williams  and a pair of first-round draft picks yesterday. type=str,\n",
       "'description_seq_len': 177 type=int,\n",
       "'description_word_seq': [2319, 197, 2485, 22, 3166, 2246, 44, 3548, 4978, 2485, 28, 2642, 19, 2, 713, 3166, 3, 2, 18, 2638, 2319, 9, 9327, 3989, 4440, 639, 4402, 639, 7, 4, 1907, 5, 3921, 2056, 3337, 583, 0, 0, 0, 0, 0, 0, 0, 0, 0, 0, 0, 0, 0, 0, 0, 0, 0, 0, 0, 0, 0, 0, 0, 0, 0, 0, 0, 0, 0, 0, 0, 0, 0, 0, 0, 0, 0, 0, 0, 0, 0, 0, 0, 0, 0, 0, 0, 0, 0, 0, 0, 0, 0, 0, 0, 0, 0, 0, 0, 0, 0, 0, 0, 0, 0, 0, 0, 0, 0, 0, 0, 0, 0, 0, 0, 0, 0, 0, 0, 0, 0, 0, 0, 0, 0, 0, 0, 0, 0, 0, 0, 0, 0, 0, 0, 0, 0, 0, 0, 0, 0, 0, 0, 0, 0, 0, 0, 0, 0, 0, 0, 0, 0, 0, 0, 0, 0, 0, 0, 0, 0, 0, 0, 0, 0, 0, 0, 0, 0, 0, 0, 0, 0, 0, 0, 0, 0, 0, 0, 0, 0] type=list,\n",
       "'label_seq': 4 type=int})"
      ]
     },
     "execution_count": 70,
     "metadata": {},
     "output_type": "execute_result"
    }
   ],
   "source": [
    "data_train"
   ]
  },
  {
   "cell_type": "code",
   "execution_count": 69,
   "metadata": {},
   "outputs": [
    {
     "name": "stdout",
     "output_type": "stream",
     "text": [
      "dataset processed successfully!\n"
     ]
    }
   ],
   "source": [
    "print(\"dataset processed successfully!\")"
   ]
  },
  {
   "cell_type": "markdown",
   "metadata": {},
   "source": [
    "模型实现"
   ]
  },
  {
   "cell_type": "code",
   "execution_count": 71,
   "metadata": {},
   "outputs": [],
   "source": [
    "import torch\n",
    "import torch.nn as nn\n",
    "\n",
    "class ResnetBlock(nn.Module):\n",
    "    def __init__(self, channel_size):\n",
    "        super(ResnetBlock, self).__init__()\n",
    "\n",
    "        self.channel_size = channel_size\n",
    "        self.maxpool = nn.Sequential(\n",
    "            nn.ConstantPad1d(padding=(0, 1), value=0),\n",
    "            nn.MaxPool1d(kernel_size=3, stride=2)\n",
    "        )\n",
    "        self.conv = nn.Sequential(\n",
    "            nn.BatchNorm1d(num_features=self.channel_size),\n",
    "            nn.ReLU(),\n",
    "            nn.Conv1d(self.channel_size, self.channel_size, kernel_size=3, padding=1),\n",
    "\n",
    "            nn.BatchNorm1d(num_features=self.channel_size),\n",
    "            nn.ReLU(),\n",
    "            nn.Conv1d(self.channel_size, self.channel_size, kernel_size=3, padding=1),\n",
    "        )\n",
    "\n",
    "    def forward(self, x):\n",
    "        x_shortcut = self.maxpool(x)\n",
    "        x = self.conv(x_shortcut)\n",
    "        x = x + x_shortcut\n",
    "        return x\n",
    "\n",
    "\n",
    "class DPCNN(nn.Module):\n",
    "    def __init__(self,max_features,word_embedding_dimension,max_sentence_length,num_classes):\n",
    "        super(DPCNN, self).__init__()\n",
    "        self.max_features = max_features\n",
    "        self.embed_size = word_embedding_dimension\n",
    "        self.maxlen = max_sentence_length\n",
    "        self.num_classes=num_classes\n",
    "        self.channel_size = 250\n",
    "\n",
    "        self.embedding = nn.Embedding(self.max_features, self.embed_size)\n",
    "        torch.nn.init.normal_(self.embedding.weight.data,mean=0,std=0.01)\n",
    "        self.embedding.weight.requires_grad = True\n",
    "\n",
    "        # region embedding\n",
    "        self.region_embedding = nn.Sequential(\n",
    "            nn.Conv1d(self.embed_size, self.channel_size, kernel_size=3, padding=1),\n",
    "            nn.BatchNorm1d(num_features=self.channel_size),\n",
    "            nn.ReLU(),\n",
    "            nn.Dropout(0.2)\n",
    "        )\n",
    "\n",
    "        self.conv_block = nn.Sequential(\n",
    "            nn.BatchNorm1d(num_features=self.channel_size),\n",
    "            nn.ReLU(),\n",
    "            nn.Conv1d(self.channel_size, self.channel_size, kernel_size=3, padding=1),\n",
    "            nn.BatchNorm1d(num_features=self.channel_size),\n",
    "            nn.ReLU(),\n",
    "            nn.Conv1d(self.channel_size, self.channel_size, kernel_size=3, padding=1),\n",
    "        )"
   ]
  },
  {
   "cell_type": "markdown",
   "metadata": {},
   "source": [
    "训练"
   ]
  },
  {
   "cell_type": "code",
   "execution_count": 75,
   "metadata": {},
   "outputs": [],
   "source": [
    "word_embedding_dimension = 300\n",
    "num_classes = 4\n",
    "pickle_path = 'result/'"
   ]
  },
  {
   "cell_type": "code",
   "execution_count": 84,
   "metadata": {},
   "outputs": [
    {
     "name": "stdout",
     "output_type": "stream",
     "text": [
      "input fields after batch(if batch size is 2):\n",
      "\tdescription_word_seq: (1)type:torch.Tensor (2)dtype:torch.int64, (3)shape:torch.Size([2, 177]) \n",
      "target fields after batch(if batch size is 2):\n",
      "\tlabel_seq: (1)type:torch.Tensor (2)dtype:torch.int64, (3)shape:torch.Size([2]) \n",
      "\n"
     ]
    },
    {
     "ename": "NotImplementedError",
     "evalue": "",
     "output_type": "error",
     "traceback": [
      "\u001b[0;31m---------------------------------------------------------------------------\u001b[0m",
      "\u001b[0;31mNotImplementedError\u001b[0m                       Traceback (most recent call last)",
      "\u001b[0;32m<ipython-input-84-b2e717451145>\u001b[0m in \u001b[0;36m<module>\u001b[0;34m()\u001b[0m\n\u001b[1;32m     16\u001b[0m \u001b[0;31m# train model with train_data,and val model witst_data\u001b[0m\u001b[0;34m\u001b[0m\u001b[0;34m\u001b[0m\u001b[0;34m\u001b[0m\u001b[0m\n\u001b[1;32m     17\u001b[0m \u001b[0;31m# embedding=300 gaussian init，weight_decay=0.0001, lr=0.001，epoch=5\u001b[0m\u001b[0;34m\u001b[0m\u001b[0;34m\u001b[0m\u001b[0;34m\u001b[0m\u001b[0m\n\u001b[0;32m---> 18\u001b[0;31m \u001b[0mtrainer\u001b[0m\u001b[0;34m=\u001b[0m\u001b[0mTrainer\u001b[0m\u001b[0;34m(\u001b[0m\u001b[0mmodel\u001b[0m\u001b[0;34m=\u001b[0m\u001b[0mmodel\u001b[0m\u001b[0;34m,\u001b[0m\u001b[0mtrain_data\u001b[0m\u001b[0;34m=\u001b[0m\u001b[0mdata_train\u001b[0m\u001b[0;34m,\u001b[0m\u001b[0mdev_data\u001b[0m\u001b[0;34m=\u001b[0m\u001b[0mdata_test\u001b[0m\u001b[0;34m,\u001b[0m\u001b[0mloss\u001b[0m\u001b[0;34m=\u001b[0m\u001b[0mloss\u001b[0m\u001b[0;34m,\u001b[0m\u001b[0mmetrics\u001b[0m\u001b[0;34m=\u001b[0m\u001b[0mmetric\u001b[0m\u001b[0;34m,\u001b[0m\u001b[0msave_path\u001b[0m\u001b[0;34m=\u001b[0m\u001b[0;32mNone\u001b[0m\u001b[0;34m,\u001b[0m\u001b[0mbatch_size\u001b[0m\u001b[0;34m=\u001b[0m\u001b[0;36m32\u001b[0m\u001b[0;34m,\u001b[0m\u001b[0mn_epochs\u001b[0m\u001b[0;34m=\u001b[0m\u001b[0;36m5\u001b[0m\u001b[0;34m,\u001b[0m\u001b[0moptimizer\u001b[0m\u001b[0;34m=\u001b[0m\u001b[0mAdam\u001b[0m\u001b[0;34m(\u001b[0m\u001b[0mlr\u001b[0m\u001b[0;34m=\u001b[0m\u001b[0;36m0.001\u001b[0m\u001b[0;34m,\u001b[0m \u001b[0mweight_decay\u001b[0m\u001b[0;34m=\u001b[0m\u001b[0;36m0.0001\u001b[0m\u001b[0;34m)\u001b[0m\u001b[0;34m)\u001b[0m\u001b[0;34m\u001b[0m\u001b[0;34m\u001b[0m\u001b[0m\n\u001b[0m\u001b[1;32m     19\u001b[0m \u001b[0mtrainer\u001b[0m\u001b[0;34m.\u001b[0m\u001b[0mtrain\u001b[0m\u001b[0;34m(\u001b[0m\u001b[0;34m)\u001b[0m\u001b[0;34m\u001b[0m\u001b[0;34m\u001b[0m\u001b[0m\n\u001b[1;32m     20\u001b[0m \u001b[0;34m\u001b[0m\u001b[0m\n",
      "\u001b[0;32m/home/wen/anaconda3/lib/python3.7/site-packages/fastNLP/core/trainer.py\u001b[0m in \u001b[0;36m__init__\u001b[0;34m(self, train_data, model, loss, metrics, n_epochs, batch_size, print_every, validate_every, dev_data, save_path, optimizer, check_code_level, metric_key, sampler, prefetch, use_tqdm, use_cuda, callbacks, update_every)\u001b[0m\n\u001b[1;32m    109\u001b[0m             _check_code(dataset=train_data, model=model, losser=losser, metrics=metrics, dev_data=dev_data,\n\u001b[1;32m    110\u001b[0m                         \u001b[0mmetric_key\u001b[0m\u001b[0;34m=\u001b[0m\u001b[0mmetric_key\u001b[0m\u001b[0;34m,\u001b[0m \u001b[0mcheck_level\u001b[0m\u001b[0;34m=\u001b[0m\u001b[0mcheck_code_level\u001b[0m\u001b[0;34m,\u001b[0m\u001b[0;34m\u001b[0m\u001b[0;34m\u001b[0m\u001b[0m\n\u001b[0;32m--> 111\u001b[0;31m                         batch_size=min(batch_size, DEFAULT_CHECK_BATCH_SIZE))\n\u001b[0m\u001b[1;32m    112\u001b[0m \u001b[0;34m\u001b[0m\u001b[0m\n\u001b[1;32m    113\u001b[0m         \u001b[0mself\u001b[0m\u001b[0;34m.\u001b[0m\u001b[0mtrain_data\u001b[0m \u001b[0;34m=\u001b[0m \u001b[0mtrain_data\u001b[0m\u001b[0;34m\u001b[0m\u001b[0;34m\u001b[0m\u001b[0m\n",
      "\u001b[0;32m/home/wen/anaconda3/lib/python3.7/site-packages/fastNLP/core/trainer.py\u001b[0m in \u001b[0;36m_check_code\u001b[0;34m(dataset, model, losser, metrics, batch_size, dev_data, metric_key, check_level)\u001b[0m\n\u001b[1;32m    485\u001b[0m \u001b[0;34m\u001b[0m\u001b[0m\n\u001b[1;32m    486\u001b[0m         \u001b[0mrefined_batch_x\u001b[0m \u001b[0;34m=\u001b[0m \u001b[0m_build_args\u001b[0m\u001b[0;34m(\u001b[0m\u001b[0mmodel\u001b[0m\u001b[0;34m.\u001b[0m\u001b[0mforward\u001b[0m\u001b[0;34m,\u001b[0m \u001b[0;34m**\u001b[0m\u001b[0mbatch_x\u001b[0m\u001b[0;34m)\u001b[0m\u001b[0;34m\u001b[0m\u001b[0;34m\u001b[0m\u001b[0m\n\u001b[0;32m--> 487\u001b[0;31m         \u001b[0mpred_dict\u001b[0m \u001b[0;34m=\u001b[0m \u001b[0mmodel\u001b[0m\u001b[0;34m(\u001b[0m\u001b[0;34m**\u001b[0m\u001b[0mrefined_batch_x\u001b[0m\u001b[0;34m)\u001b[0m\u001b[0;34m\u001b[0m\u001b[0;34m\u001b[0m\u001b[0m\n\u001b[0m\u001b[1;32m    488\u001b[0m         \u001b[0mfunc_signature\u001b[0m \u001b[0;34m=\u001b[0m \u001b[0mget_func_signature\u001b[0m\u001b[0;34m(\u001b[0m\u001b[0mmodel\u001b[0m\u001b[0;34m.\u001b[0m\u001b[0mforward\u001b[0m\u001b[0;34m)\u001b[0m\u001b[0;34m\u001b[0m\u001b[0;34m\u001b[0m\u001b[0m\n\u001b[1;32m    489\u001b[0m         \u001b[0;32mif\u001b[0m \u001b[0;32mnot\u001b[0m \u001b[0misinstance\u001b[0m\u001b[0;34m(\u001b[0m\u001b[0mpred_dict\u001b[0m\u001b[0;34m,\u001b[0m \u001b[0mdict\u001b[0m\u001b[0;34m)\u001b[0m\u001b[0;34m:\u001b[0m\u001b[0;34m\u001b[0m\u001b[0;34m\u001b[0m\u001b[0m\n",
      "\u001b[0;32m/home/wen/anaconda3/lib/python3.7/site-packages/torch/nn/modules/module.py\u001b[0m in \u001b[0;36m__call__\u001b[0;34m(self, *input, **kwargs)\u001b[0m\n\u001b[1;32m    487\u001b[0m             \u001b[0mresult\u001b[0m \u001b[0;34m=\u001b[0m \u001b[0mself\u001b[0m\u001b[0;34m.\u001b[0m\u001b[0m_slow_forward\u001b[0m\u001b[0;34m(\u001b[0m\u001b[0;34m*\u001b[0m\u001b[0minput\u001b[0m\u001b[0;34m,\u001b[0m \u001b[0;34m**\u001b[0m\u001b[0mkwargs\u001b[0m\u001b[0;34m)\u001b[0m\u001b[0;34m\u001b[0m\u001b[0;34m\u001b[0m\u001b[0m\n\u001b[1;32m    488\u001b[0m         \u001b[0;32melse\u001b[0m\u001b[0;34m:\u001b[0m\u001b[0;34m\u001b[0m\u001b[0;34m\u001b[0m\u001b[0m\n\u001b[0;32m--> 489\u001b[0;31m             \u001b[0mresult\u001b[0m \u001b[0;34m=\u001b[0m \u001b[0mself\u001b[0m\u001b[0;34m.\u001b[0m\u001b[0mforward\u001b[0m\u001b[0;34m(\u001b[0m\u001b[0;34m*\u001b[0m\u001b[0minput\u001b[0m\u001b[0;34m,\u001b[0m \u001b[0;34m**\u001b[0m\u001b[0mkwargs\u001b[0m\u001b[0;34m)\u001b[0m\u001b[0;34m\u001b[0m\u001b[0;34m\u001b[0m\u001b[0m\n\u001b[0m\u001b[1;32m    490\u001b[0m         \u001b[0;32mfor\u001b[0m \u001b[0mhook\u001b[0m \u001b[0;32min\u001b[0m \u001b[0mself\u001b[0m\u001b[0;34m.\u001b[0m\u001b[0m_forward_hooks\u001b[0m\u001b[0;34m.\u001b[0m\u001b[0mvalues\u001b[0m\u001b[0;34m(\u001b[0m\u001b[0;34m)\u001b[0m\u001b[0;34m:\u001b[0m\u001b[0;34m\u001b[0m\u001b[0;34m\u001b[0m\u001b[0m\n\u001b[1;32m    491\u001b[0m             \u001b[0mhook_result\u001b[0m \u001b[0;34m=\u001b[0m \u001b[0mhook\u001b[0m\u001b[0;34m(\u001b[0m\u001b[0mself\u001b[0m\u001b[0;34m,\u001b[0m \u001b[0minput\u001b[0m\u001b[0;34m,\u001b[0m \u001b[0mresult\u001b[0m\u001b[0;34m)\u001b[0m\u001b[0;34m\u001b[0m\u001b[0;34m\u001b[0m\u001b[0m\n",
      "\u001b[0;32m/home/wen/anaconda3/lib/python3.7/site-packages/torch/nn/modules/module.py\u001b[0m in \u001b[0;36mforward\u001b[0;34m(self, *input)\u001b[0m\n\u001b[1;32m     83\u001b[0m             \u001b[0mregistered\u001b[0m \u001b[0mhooks\u001b[0m \u001b[0;32mwhile\u001b[0m \u001b[0mthe\u001b[0m \u001b[0mlatter\u001b[0m \u001b[0msilently\u001b[0m \u001b[0mignores\u001b[0m \u001b[0mthem\u001b[0m\u001b[0;34m.\u001b[0m\u001b[0;34m\u001b[0m\u001b[0;34m\u001b[0m\u001b[0m\n\u001b[1;32m     84\u001b[0m         \"\"\"\n\u001b[0;32m---> 85\u001b[0;31m         \u001b[0;32mraise\u001b[0m \u001b[0mNotImplementedError\u001b[0m\u001b[0;34m\u001b[0m\u001b[0;34m\u001b[0m\u001b[0m\n\u001b[0m\u001b[1;32m     86\u001b[0m \u001b[0;34m\u001b[0m\u001b[0m\n\u001b[1;32m     87\u001b[0m     \u001b[0;32mdef\u001b[0m \u001b[0mregister_buffer\u001b[0m\u001b[0;34m(\u001b[0m\u001b[0mself\u001b[0m\u001b[0;34m,\u001b[0m \u001b[0mname\u001b[0m\u001b[0;34m,\u001b[0m \u001b[0mtensor\u001b[0m\u001b[0;34m)\u001b[0m\u001b[0;34m:\u001b[0m\u001b[0;34m\u001b[0m\u001b[0;34m\u001b[0m\u001b[0m\n",
      "\u001b[0;31mNotImplementedError\u001b[0m: "
     ]
    }
   ],
   "source": [
    "from fastNLP import Trainer\n",
    "from copy import deepcopy\n",
    "from fastNLP.core.losses import CrossEntropyLoss\n",
    "from fastNLP.core.metrics import AccuracyMetric\n",
    "from fastNLP.core.optimizer import Adam\n",
    "from fastNLP.core.utils import save_pickle\n",
    "\n",
    "\n",
    "# load model\n",
    "model=DPCNN(max_features=len(vocab),word_embedding_dimension=word_embedding_dimension,max_sentence_length = max_sentence_length,num_classes=num_classes)\n",
    "\n",
    "# define loss and metric\n",
    "loss = CrossEntropyLoss(pred=\"output\",target=\"label_seq\")\n",
    "metric = AccuracyMetric(pred=\"predict\", target=\"label_seq\")\n",
    "\n",
    "# train model with train_data,and val model witst_data\n",
    "# embedding=300 gaussian init，weight_decay=0.0001, lr=0.001，epoch=5\n",
    "trainer=Trainer(model=model,train_data=data_train,dev_data=data_test,loss=loss,metrics=metric,save_path=None,batch_size=32,n_epochs=5,optimizer=Adam(lr=0.001, weight_decay=0.0001))\n",
    "trainer.train()\n",
    "\n",
    "# save pickle\n",
    "save_pickle(model,pickle_path=pickle_path,file_name='new_model.pkl')"
   ]
  },
  {
   "cell_type": "code",
   "execution_count": null,
   "metadata": {},
   "outputs": [],
   "source": []
  }
 ],
 "metadata": {
  "kernelspec": {
   "display_name": "Python 3",
   "language": "python",
   "name": "python3"
  },
  "language_info": {
   "codemirror_mode": {
    "name": "ipython",
    "version": 3
   },
   "file_extension": ".py",
   "mimetype": "text/x-python",
   "name": "python",
   "nbconvert_exporter": "python",
   "pygments_lexer": "ipython3",
   "version": "3.7.2"
  }
 },
 "nbformat": 4,
 "nbformat_minor": 2
}
